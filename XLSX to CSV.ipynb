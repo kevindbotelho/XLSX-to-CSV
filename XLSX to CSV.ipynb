{
 "cells": [
  {
   "cell_type": "markdown",
   "metadata": {},
   "source": [
    "#### Importando Bibliotecas"
   ]
  },
  {
   "cell_type": "code",
   "execution_count": 1,
   "metadata": {},
   "outputs": [],
   "source": [
    "import pandas as pd\n",
    "import os"
   ]
  },
  {
   "cell_type": "markdown",
   "metadata": {},
   "source": [
    "#### Definindo Funções"
   ]
  },
  {
   "cell_type": "code",
   "execution_count": 2,
   "metadata": {},
   "outputs": [],
   "source": [
    "def converter_xlsx_para_csv(diretorio_entrada: str, diretorio_saida: str):\n",
    "    \"\"\"\n",
    "    Função para converter todos os arquivos XLSX de um diretório para CSV com codificação UTF-8.\n",
    "    \"\"\"\n",
    "    # Listar todos os arquivos XLSX no diretório de entrada\n",
    "    arquivos = [f for f in os.listdir(diretorio_entrada) if f.endswith('.xlsx')]\n",
    "    \n",
    "    # Para cada arquivo XLSX, ler e salvar como CSV com codificação UTF-8\n",
    "    for arquivo in arquivos:\n",
    "        caminho_arquivo = os.path.join(diretorio_entrada, arquivo)\n",
    "        caminho_saida = os.path.join(diretorio_saida, arquivo.replace('.xlsx', '.csv'))\n",
    "        \n",
    "        # Ler o arquivo XLSX\n",
    "        df = pd.read_excel(caminho_arquivo)\n",
    "        \n",
    "        # Salvar como CSV com codificação UTF-8\n",
    "        df.to_csv(caminho_saida, encoding='utf-8', index=False)\n",
    "        print(f'Arquivo {arquivo} convertido e salvo como CSV em: {caminho_saida}')"
   ]
  },
  {
   "cell_type": "markdown",
   "metadata": {},
   "source": [
    "#### Definindo os Diretórios"
   ]
  },
  {
   "cell_type": "code",
   "execution_count": 3,
   "metadata": {},
   "outputs": [],
   "source": [
    "diretorio_entrada = r'C:\\Users\\kevin\\Documents\\Vendas Excel'\n",
    "diretorio_saida = r'C:\\Users\\kevin\\Documents\\Vendas CSV'"
   ]
  },
  {
   "cell_type": "markdown",
   "metadata": {},
   "source": [
    "#### Executando a Conversão"
   ]
  },
  {
   "cell_type": "code",
   "execution_count": 4,
   "metadata": {},
   "outputs": [
    {
     "name": "stdout",
     "output_type": "stream",
     "text": [
      "Arquivo Base Devoluções.xlsx convertido e salvo como CSV em: C:\\Users\\kevin\\Documents\\Vendas CSV\\Base Devoluções.csv\n",
      "Arquivo Base Vendas - 2020.xlsx convertido e salvo como CSV em: C:\\Users\\kevin\\Documents\\Vendas CSV\\Base Vendas - 2020.csv\n",
      "Arquivo Base Vendas - 2021.xlsx convertido e salvo como CSV em: C:\\Users\\kevin\\Documents\\Vendas CSV\\Base Vendas - 2021.csv\n",
      "Arquivo Base Vendas - 2022.xlsx convertido e salvo como CSV em: C:\\Users\\kevin\\Documents\\Vendas CSV\\Base Vendas - 2022.csv\n",
      "Arquivo Cadastro Clientes.xlsx convertido e salvo como CSV em: C:\\Users\\kevin\\Documents\\Vendas CSV\\Cadastro Clientes.csv\n",
      "Arquivo Cadastro Localidades.xlsx convertido e salvo como CSV em: C:\\Users\\kevin\\Documents\\Vendas CSV\\Cadastro Localidades.csv\n",
      "Arquivo Cadastro Lojas.xlsx convertido e salvo como CSV em: C:\\Users\\kevin\\Documents\\Vendas CSV\\Cadastro Lojas.csv\n",
      "Arquivo Cadastro Produtos.xlsx convertido e salvo como CSV em: C:\\Users\\kevin\\Documents\\Vendas CSV\\Cadastro Produtos.csv\n"
     ]
    }
   ],
   "source": [
    "converter_xlsx_para_csv(diretorio_entrada, diretorio_saida)"
   ]
  }
 ],
 "metadata": {
  "kernelspec": {
   "display_name": "Python 3",
   "language": "python",
   "name": "python3"
  },
  "language_info": {
   "codemirror_mode": {
    "name": "ipython",
    "version": 3
   },
   "file_extension": ".py",
   "mimetype": "text/x-python",
   "name": "python",
   "nbconvert_exporter": "python",
   "pygments_lexer": "ipython3",
   "version": "3.12.2"
  }
 },
 "nbformat": 4,
 "nbformat_minor": 2
}
